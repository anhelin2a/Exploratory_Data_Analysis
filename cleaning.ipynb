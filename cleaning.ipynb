{
 "cells": [
  {
   "cell_type": "code",
   "execution_count": 1,
   "metadata": {},
   "outputs": [],
   "source": [
    "import pandas as pd"
   ]
  },
  {
   "cell_type": "code",
   "execution_count": null,
   "metadata": {},
   "outputs": [
    {
     "name": "stdout",
     "output_type": "stream",
     "text": [
      "   Region  Year  Total_Deaths  Suicide_Deaths  Suicide_Percentage\n",
      "0  POLSKA  1999        381415            5778            1.514885\n",
      "1  POLSKA  2000        368028            5841            1.587108\n",
      "2  POLSKA  2001        363220            5855            1.611971\n",
      "3  POLSKA  2002        359486            5924            1.647908\n",
      "4  POLSKA  2003        365230            5834            1.597350\n"
     ]
    }
   ],
   "source": [
    "# Zgony_wg_przyczyn.xlsx\n",
    "df = pd.read_excel('Zgony_wg_przyczyn.xlsx', sheet_name='DANE')\n",
    "\n",
    "df = df.drop(columns=['Jednostka miary', 'Atrybut'])\n",
    "df.columns = ['Region_ID', 'Region', 'Cause', 'Year', 'Deaths', 'Suicide_Percentage']\n",
    "\n",
    "df_total = df[df['Cause'] == 'razem'].drop(columns=['Cause', 'Suicide_Percentage'])\n",
    "df_suicide = df[df['Cause'] == 'zewnętrzne przyczyny zachorowania i zgonu - samobójstwo'].drop(columns=['Cause'])\n",
    "\n",
    "df_merged = pd.merge(df_total, df_suicide, on=['Region_ID', 'Region', 'Year'], suffixes=('_Total', '_Suicide'))\n",
    "df_merged.columns = ['Region_ID', 'Region', 'Year', 'Total_Deaths', 'Suicide_Deaths', 'Suicide_Percentage']\n",
    "\n",
    "df_merged['Suicide_Percentage'] = df_merged['Suicide_Percentage'].fillna('').astype(str)\n",
    "\n",
    "df_merged['Suicide_Percentage'] = df_merged['Suicide_Percentage'].str.replace(',', '.').astype(float)\n",
    "\n",
    "df_merged = df_merged.drop(columns=['Region_ID'])\n",
    "\n",
    "print(df_merged.head())"
   ]
  },
  {
   "cell_type": "code",
   "execution_count": 18,
   "metadata": {},
   "outputs": [],
   "source": [
    "df_merged.to_excel('cleaned_deaths_data.xlsx', index=False, sheet_name='Deaths_Data')"
   ]
  },
  {
   "cell_type": "code",
   "execution_count": 19,
   "metadata": {},
   "outputs": [
    {
     "data": {
      "text/html": [
       "<div>\n",
       "<style scoped>\n",
       "    .dataframe tbody tr th:only-of-type {\n",
       "        vertical-align: middle;\n",
       "    }\n",
       "\n",
       "    .dataframe tbody tr th {\n",
       "        vertical-align: top;\n",
       "    }\n",
       "\n",
       "    .dataframe thead th {\n",
       "        text-align: right;\n",
       "    }\n",
       "</style>\n",
       "<table border=\"1\" class=\"dataframe\">\n",
       "  <thead>\n",
       "    <tr style=\"text-align: right;\">\n",
       "      <th></th>\n",
       "      <th>Region</th>\n",
       "      <th>Year</th>\n",
       "      <th>Total_Deaths</th>\n",
       "      <th>Suicide_Deaths</th>\n",
       "      <th>Suicide_Percentage</th>\n",
       "    </tr>\n",
       "  </thead>\n",
       "  <tbody>\n",
       "    <tr>\n",
       "      <th>0</th>\n",
       "      <td>POLSKA</td>\n",
       "      <td>1999</td>\n",
       "      <td>381415</td>\n",
       "      <td>5778</td>\n",
       "      <td>1.514885</td>\n",
       "    </tr>\n",
       "    <tr>\n",
       "      <th>1</th>\n",
       "      <td>POLSKA</td>\n",
       "      <td>2000</td>\n",
       "      <td>368028</td>\n",
       "      <td>5841</td>\n",
       "      <td>1.587108</td>\n",
       "    </tr>\n",
       "    <tr>\n",
       "      <th>2</th>\n",
       "      <td>POLSKA</td>\n",
       "      <td>2001</td>\n",
       "      <td>363220</td>\n",
       "      <td>5855</td>\n",
       "      <td>1.611971</td>\n",
       "    </tr>\n",
       "    <tr>\n",
       "      <th>3</th>\n",
       "      <td>POLSKA</td>\n",
       "      <td>2002</td>\n",
       "      <td>359486</td>\n",
       "      <td>5924</td>\n",
       "      <td>1.647908</td>\n",
       "    </tr>\n",
       "    <tr>\n",
       "      <th>4</th>\n",
       "      <td>POLSKA</td>\n",
       "      <td>2003</td>\n",
       "      <td>365230</td>\n",
       "      <td>5834</td>\n",
       "      <td>1.597350</td>\n",
       "    </tr>\n",
       "  </tbody>\n",
       "</table>\n",
       "</div>"
      ],
      "text/plain": [
       "   Region  Year  Total_Deaths  Suicide_Deaths  Suicide_Percentage\n",
       "0  POLSKA  1999        381415            5778            1.514885\n",
       "1  POLSKA  2000        368028            5841            1.587108\n",
       "2  POLSKA  2001        363220            5855            1.611971\n",
       "3  POLSKA  2002        359486            5924            1.647908\n",
       "4  POLSKA  2003        365230            5834            1.597350"
      ]
     },
     "execution_count": 19,
     "metadata": {},
     "output_type": "execute_result"
    }
   ],
   "source": [
    "df_cleaned = pd.read_excel('cleaned_deaths_data.xlsx', sheet_name='Deaths_Data')\n",
    "df_cleaned.head()"
   ]
  },
  {
   "cell_type": "code",
   "execution_count": 2,
   "metadata": {},
   "outputs": [
    {
     "name": "stdout",
     "output_type": "stream",
     "text": [
      "   Region    Month                        Indicator  Year  Value\n",
      "0  POLSKA  styczeń  stopa bezrobocia rejestrowanego  2011   13.1\n",
      "1  POLSKA  styczeń  stopa bezrobocia rejestrowanego  2012   13.2\n",
      "2  POLSKA  styczeń  stopa bezrobocia rejestrowanego  2013   14.2\n",
      "3  POLSKA  styczeń  stopa bezrobocia rejestrowanego  2014   13.9\n",
      "4  POLSKA  styczeń  stopa bezrobocia rejestrowanego  2015   11.9\n"
     ]
    }
   ],
   "source": [
    "# Stopa_bezrobocia_rejestrowanego_i_stopa_napływu_bezrobotnych_zarejestrowanych.xlsx\n",
    "import pandas as pd\n",
    "df = pd.read_excel('Stopa_bezrobocia_rejestrowanego_i_stopa_napływu_bezrobotnych_zarejestrowanych.xlsx',  sheet_name='DANE')  \n",
    "\n",
    "df = df.drop(columns=['Kod', 'Atrybut', 'Jednostka miary'])\n",
    "\n",
    "df.columns = ['Region', 'Month', 'Indicator', 'Year', 'Value']\n",
    "\n",
    "df['Value'] = df['Value'].replace('-', None)\n",
    "\n",
    "df['Value'] = df['Value'].astype(str)\n",
    "\n",
    "df['Value'] = df['Value'].str.replace('%', '').str.replace(',', '.')\n",
    "\n",
    "df['Value'] = pd.to_numeric(df['Value'], errors='coerce')\n",
    "\n",
    "df = df.dropna()\n",
    "\n",
    "print(df.head())"
   ]
  },
  {
   "cell_type": "code",
   "execution_count": 3,
   "metadata": {},
   "outputs": [
    {
     "data": {
      "text/html": [
       "<div>\n",
       "<style scoped>\n",
       "    .dataframe tbody tr th:only-of-type {\n",
       "        vertical-align: middle;\n",
       "    }\n",
       "\n",
       "    .dataframe tbody tr th {\n",
       "        vertical-align: top;\n",
       "    }\n",
       "\n",
       "    .dataframe thead th {\n",
       "        text-align: right;\n",
       "    }\n",
       "</style>\n",
       "<table border=\"1\" class=\"dataframe\">\n",
       "  <thead>\n",
       "    <tr style=\"text-align: right;\">\n",
       "      <th></th>\n",
       "      <th>Region</th>\n",
       "      <th>Month</th>\n",
       "      <th>Indicator</th>\n",
       "      <th>Year</th>\n",
       "      <th>Value</th>\n",
       "    </tr>\n",
       "  </thead>\n",
       "  <tbody>\n",
       "    <tr>\n",
       "      <th>0</th>\n",
       "      <td>POLSKA</td>\n",
       "      <td>styczeń</td>\n",
       "      <td>stopa bezrobocia rejestrowanego</td>\n",
       "      <td>2011</td>\n",
       "      <td>13.1</td>\n",
       "    </tr>\n",
       "    <tr>\n",
       "      <th>1</th>\n",
       "      <td>POLSKA</td>\n",
       "      <td>styczeń</td>\n",
       "      <td>stopa bezrobocia rejestrowanego</td>\n",
       "      <td>2012</td>\n",
       "      <td>13.2</td>\n",
       "    </tr>\n",
       "    <tr>\n",
       "      <th>2</th>\n",
       "      <td>POLSKA</td>\n",
       "      <td>styczeń</td>\n",
       "      <td>stopa bezrobocia rejestrowanego</td>\n",
       "      <td>2013</td>\n",
       "      <td>14.2</td>\n",
       "    </tr>\n",
       "    <tr>\n",
       "      <th>3</th>\n",
       "      <td>POLSKA</td>\n",
       "      <td>styczeń</td>\n",
       "      <td>stopa bezrobocia rejestrowanego</td>\n",
       "      <td>2014</td>\n",
       "      <td>13.9</td>\n",
       "    </tr>\n",
       "    <tr>\n",
       "      <th>4</th>\n",
       "      <td>POLSKA</td>\n",
       "      <td>styczeń</td>\n",
       "      <td>stopa bezrobocia rejestrowanego</td>\n",
       "      <td>2015</td>\n",
       "      <td>11.9</td>\n",
       "    </tr>\n",
       "  </tbody>\n",
       "</table>\n",
       "</div>"
      ],
      "text/plain": [
       "   Region    Month                        Indicator  Year  Value\n",
       "0  POLSKA  styczeń  stopa bezrobocia rejestrowanego  2011   13.1\n",
       "1  POLSKA  styczeń  stopa bezrobocia rejestrowanego  2012   13.2\n",
       "2  POLSKA  styczeń  stopa bezrobocia rejestrowanego  2013   14.2\n",
       "3  POLSKA  styczeń  stopa bezrobocia rejestrowanego  2014   13.9\n",
       "4  POLSKA  styczeń  stopa bezrobocia rejestrowanego  2015   11.9"
      ]
     },
     "execution_count": 3,
     "metadata": {},
     "output_type": "execute_result"
    }
   ],
   "source": [
    "df.to_excel('cleaned_Stopa_bezrobocia_rejestrowanego_i_stopa_napływu_bezrobotnych_zarejestrowanych.xlsx', index=False, sheet_name='Unemployment_Data')\n",
    "\n",
    "df_cleaned = pd.read_excel('cleaned_Stopa_bezrobocia_rejestrowanego_i_stopa_napływu_bezrobotnych_zarejestrowanych.xlsx',sheet_name='Unemployment_Data')\n",
    "df_cleaned.head()"
   ]
  },
  {
   "cell_type": "code",
   "execution_count": 12,
   "metadata": {},
   "outputs": [
    {
     "data": {
      "text/html": [
       "<div>\n",
       "<style scoped>\n",
       "    .dataframe tbody tr th:only-of-type {\n",
       "        vertical-align: middle;\n",
       "    }\n",
       "\n",
       "    .dataframe tbody tr th {\n",
       "        vertical-align: top;\n",
       "    }\n",
       "\n",
       "    .dataframe thead th {\n",
       "        text-align: right;\n",
       "    }\n",
       "</style>\n",
       "<table border=\"1\" class=\"dataframe\">\n",
       "  <thead>\n",
       "    <tr style=\"text-align: right;\">\n",
       "      <th></th>\n",
       "      <th>Region</th>\n",
       "      <th>Year</th>\n",
       "      <th>Female</th>\n",
       "      <th>Male</th>\n",
       "      <th>Total</th>\n",
       "    </tr>\n",
       "  </thead>\n",
       "  <tbody>\n",
       "    <tr>\n",
       "      <th>0</th>\n",
       "      <td>POLSKA</td>\n",
       "      <td>2012</td>\n",
       "      <td>6.5</td>\n",
       "      <td>5.3</td>\n",
       "      <td>5.9</td>\n",
       "    </tr>\n",
       "    <tr>\n",
       "      <th>1</th>\n",
       "      <td>POLSKA</td>\n",
       "      <td>2013</td>\n",
       "      <td>6.2</td>\n",
       "      <td>5.0</td>\n",
       "      <td>5.6</td>\n",
       "    </tr>\n",
       "    <tr>\n",
       "      <th>2</th>\n",
       "      <td>POLSKA</td>\n",
       "      <td>2014</td>\n",
       "      <td>5.1</td>\n",
       "      <td>4.2</td>\n",
       "      <td>4.7</td>\n",
       "    </tr>\n",
       "    <tr>\n",
       "      <th>3</th>\n",
       "      <td>POLSKA</td>\n",
       "      <td>2015</td>\n",
       "      <td>5.0</td>\n",
       "      <td>4.1</td>\n",
       "      <td>4.6</td>\n",
       "    </tr>\n",
       "    <tr>\n",
       "      <th>4</th>\n",
       "      <td>POLSKA</td>\n",
       "      <td>2016</td>\n",
       "      <td>4.1</td>\n",
       "      <td>3.6</td>\n",
       "      <td>3.9</td>\n",
       "    </tr>\n",
       "  </tbody>\n",
       "</table>\n",
       "</div>"
      ],
      "text/plain": [
       "   Region  Year  Female  Male  Total\n",
       "0  POLSKA  2012     6.5   5.3    5.9\n",
       "1  POLSKA  2013     6.2   5.0    5.6\n",
       "2  POLSKA  2014     5.1   4.2    4.7\n",
       "3  POLSKA  2015     5.0   4.1    4.6\n",
       "4  POLSKA  2016     4.1   3.6    3.9"
      ]
     },
     "execution_count": 12,
     "metadata": {},
     "output_type": "execute_result"
    }
   ],
   "source": [
    "df = pd.read_excel('Udział_zarejestrowanych_bezrobotnych_absolwentów_wśród_bezrobotnych_ogółem_wg.xlsx', sheet_name='Graduates_Data')\n",
    "df = df.drop(columns=['Region_ID'])\n",
    "df.head()"
   ]
  },
  {
   "cell_type": "code",
   "execution_count": null,
   "metadata": {},
   "outputs": [],
   "source": []
  }
 ],
 "metadata": {
  "kernelspec": {
   "display_name": "base",
   "language": "python",
   "name": "python3"
  },
  "language_info": {
   "codemirror_mode": {
    "name": "ipython",
    "version": 3
   },
   "file_extension": ".py",
   "mimetype": "text/x-python",
   "name": "python",
   "nbconvert_exporter": "python",
   "pygments_lexer": "ipython3",
   "version": "3.12.4"
  }
 },
 "nbformat": 4,
 "nbformat_minor": 2
}
